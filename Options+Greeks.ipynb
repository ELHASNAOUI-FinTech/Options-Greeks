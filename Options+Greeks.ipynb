{
 "cells": [
  {
   "cell_type": "markdown",
   "id": "e7ce632e",
   "metadata": {},
   "source": [
    "# Black & Scholes + Greeks ==> EL.Taoufik <=="
   ]
  },
  {
   "cell_type": "code",
   "execution_count": 149,
   "id": "2477e953",
   "metadata": {},
   "outputs": [],
   "source": [
    "import numpy as np\n",
    "import pandas as pd\n",
    "import scipy.stats as si\n",
    "import matplotlib.pyplot as plt\n",
    "import sympy as sy\n",
    "import sympy.stats as systats\n",
    "from IPython.display import Image\n",
    "from IPython.core.display import HTML "
   ]
  },
  {
   "cell_type": "markdown",
   "id": "b8a407ec",
   "metadata": {},
   "source": [
    "# Formule de Black & Scholes"
   ]
  },
  {
   "cell_type": "code",
   "execution_count": 150,
   "id": "43542043",
   "metadata": {},
   "outputs": [
    {
     "data": {
      "text/html": [
       "<img src=\"https://tradeoptionswithme.com/wp-content/uploads/2019/10/bsf_compressed.jpg\"/>"
      ],
      "text/plain": [
       "<IPython.core.display.Image object>"
      ]
     },
     "execution_count": 150,
     "metadata": {},
     "output_type": "execute_result"
    }
   ],
   "source": [
    "Image(url= \"https://tradeoptionswithme.com/wp-content/uploads/2019/10/bsf_compressed.jpg\")"
   ]
  },
  {
   "cell_type": "code",
   "execution_count": 151,
   "id": "46f9727b",
   "metadata": {},
   "outputs": [],
   "source": [
    "s = 100\n",
    "k = 120\n",
    "r = 0.05\n",
    "t = 5\n",
    "vol = 0.30"
   ]
  },
  {
   "cell_type": "code",
   "execution_count": 152,
   "id": "645ab777",
   "metadata": {},
   "outputs": [],
   "source": [
    "d1 = ((np.log(s/k)) + (r + (vol**2)/2)*t)/ (vol* np.sqrt(t))\n",
    "d2 = d1 - (vol* np.sqrt(t))"
   ]
  },
  {
   "cell_type": "code",
   "execution_count": 153,
   "id": "ba93be4f",
   "metadata": {},
   "outputs": [
    {
     "name": "stdout",
     "output_type": "stream",
     "text": [
      "The Put option price is  22.261\n",
      "The Call option price is  28.805\n"
     ]
    }
   ],
   "source": [
    "call_price = (s * si.norm.cdf(d1)) - (k * np.exp(-r*t) * si.norm.cdf(d2))\n",
    "call_price = str(round(call_price, 3))\n",
    "put_price = (k * np.exp(-r*t) * si.norm.cdf(-d2)) - (s * si.norm.cdf(-d1))\n",
    "put_price = str(round(put_price, 3))\n",
    "print(\"The Put option price is \", put_price)\n",
    "print(\"The Call option price is \", call_price)"
   ]
  },
  {
   "cell_type": "markdown",
   "id": "5bf04791",
   "metadata": {},
   "source": [
    "# Greeks "
   ]
  },
  {
   "cell_type": "code",
   "execution_count": 154,
   "id": "16f1e509",
   "metadata": {},
   "outputs": [
    {
     "data": {
      "text/html": [
       "<img src=\"https://lh4.googleusercontent.com/asFkiGdZuNYuC8gSiAs5YcoRX2JTqrVINgOb-bkEjlwuHYBt2BwAZxGlRe2LBmSAl33Pr2ttXgWSYqmz8IYhdNNpClWEPt6bLN6qUrG5VoBOeQ48QrDZ-GKAZmoTXlzpzeQt-7Y\"/>"
      ],
      "text/plain": [
       "<IPython.core.display.Image object>"
      ]
     },
     "execution_count": 154,
     "metadata": {},
     "output_type": "execute_result"
    }
   ],
   "source": [
    "Image(url= \"https://lh4.googleusercontent.com/asFkiGdZuNYuC8gSiAs5YcoRX2JTqrVINgOb-bkEjlwuHYBt2BwAZxGlRe2LBmSAl33Pr2ttXgWSYqmz8IYhdNNpClWEPt6bLN6qUrG5VoBOeQ48QrDZ-GKAZmoTXlzpzeQt-7Y\")"
   ]
  },
  {
   "cell_type": "code",
   "execution_count": 155,
   "id": "beed8b15",
   "metadata": {},
   "outputs": [],
   "source": [
    "## DELTA CALL and DELTA PUT\n",
    "def delta_call(s, k, r, vol, t):\n",
    "    d1 = ((np.log(s/k)) + (r + (vol**2)/2)*t)/ (vol* np.sqrt(t))\n",
    "    dc = si.norm.cdf(d1, 0.0, 1.0)\n",
    "    delta_call = dc\n",
    "    return delta_call\n",
    "\n",
    "def delta_put(s, k, r, vol, t):\n",
    "    d1 = ((np.log(s/k)) + (r + (vol**2)/2)*t)/ (vol* np.sqrt(t))\n",
    "    dp = si.norm.cdf(-d1, 0.0, 1.0)\n",
    "    \n",
    "    delta_put = -dp\n",
    "    return delta_put\n",
    "## THETA\n",
    "def theta_call(s, k, r, vol, t):\n",
    "    d1 = ((np.log(s/k)) + (r + (vol**2)/2)*t)/ (vol* np.sqrt(t))\n",
    "    d2 = d1 - (vol* np.sqrt(t))\n",
    "    #d2 = ((np.log(s/k)) + (r - (vol**2)/2)*t)/ (vol* np.sqrt(t))\n",
    "    prob_density = 1 / np.sqrt(2 * np.pi) * np.exp(-d1**2 * 0.5)\n",
    "   \n",
    "    theta = -((vol * s * prob_density) / (2*np.sqrt(t))) - (r * k * np.exp(-r*t) * si.norm.cdf(d2, 0.0, 1.0))\n",
    "    \n",
    "    return theta\n",
    "def theta_put(s, k, r, vol, t):\n",
    "    d1 = ((np.log(s/k)) + (r + (vol**2)/2)*t)/ (vol* np.sqrt(t))\n",
    "    d2 = d1 - (vol* np.sqrt(t))\n",
    "    #d2 = ((np.log(s/k)) + (r - (vol**2)/2)*t)/ (vol* np.sqrt(t))\n",
    "    prob_density = 1 / np.sqrt(2 * np.pi) * np.exp(-d1**2 * 0.5)\n",
    "   \n",
    "    theta = -((vol * s * prob_density) / (2*np.sqrt(t))) - (r * k * np.exp(-r*t) * si.norm.cdf(-d2, 0.0, 1.0))\n",
    "    \n",
    "    return theta\n",
    "## GAMMA\n",
    "def gamma(s, k, r, vol, t):\n",
    "    d1 = ((np.log(s/k)) + (r + (vol**2)/2)*t)/ (vol* np.sqrt(t))\n",
    "    d2 = d1 - (vol* np.sqrt(t))\n",
    "    prob_density = 1 / np.sqrt(2 * np.pi) * np.exp(-d1**2 * 0.5)\n",
    "   \n",
    "    gamma = prob_density / (s * vol * np.sqrt(t))\n",
    "    \n",
    "    return gamma\n",
    "## VEGA\n",
    "def vega(s, k, r, vol, t):\n",
    "    d1 = ((np.log(s/k)) + (r + (vol**2)/2)*t)/ (vol* np.sqrt(t))\n",
    "    d2 = d1 - (vol* np.sqrt(t))\n",
    "    prob_density = 1 / np.sqrt(2 * np.pi) * np.exp(-d1**2 * 0.5)\n",
    "   \n",
    "    vega = s * prob_density * np.sqrt(t)\n",
    "    vega = vega /100\n",
    "    \n",
    "    return vega\n",
    "## RHO\n",
    "def rho_call(s, k, r, vol, t):\n",
    "    d1 = ((np.log(s/k)) + (r + (vol**2)/2)*t)/ (vol* np.sqrt(t))\n",
    "    d2 = d1 - (vol* np.sqrt(t))\n",
    "    \n",
    "    rho_call = t * k * np.exp(-r*t) * si.norm.cdf(d2, 0.0, 1.0)\n",
    "    rho_call = rho_call/100\n",
    "    \n",
    "    return rho_call\n",
    "\n",
    "def rho_put(s, k, r, vol, t):\n",
    "    d1 = ((np.log(s/k)) + (r + (vol**2)/2)*t)/ (vol* np.sqrt(t))\n",
    "    d2 = d1 - (vol* np.sqrt(t))\n",
    "    \n",
    "    rho_put = -t * k * np.exp(-r*t) * si.norm.cdf(-d2, 0.0, 1.0)\n",
    "    rho_put = rho_call/100\n",
    "    \n",
    "    return rho_put"
   ]
  },
  {
   "cell_type": "code",
   "execution_count": 156,
   "id": "63cff821",
   "metadata": {},
   "outputs": [
    {
     "name": "stdout",
     "output_type": "stream",
     "text": [
      "        Greek    Valeur\n",
      "0  delta_call  0.668690\n",
      "1   delta_put -0.331310\n",
      "2  theta_call -4.336404\n",
      "3   theta_put -5.202834\n",
      "4       gamma  0.005407\n",
      "5        vega  0.811072\n",
      "6    rho_call  1.903188\n",
      "7     rho_put  0.019032\n"
     ]
    },
    {
     "data": {
      "image/png": "[encoded data removed]",
      "text/plain": [
       "<Figure size 432x288 with 1 Axes>"
      ]
     },
     "metadata": {},
     "output_type": "display_data"
    }
   ],
   "source": [
    "delta_call=delta_call(s, k, r, vol, t)\n",
    "delta_put=delta_put(s, k, r, vol, t)\n",
    "theta_call=theta_call(s, k, r, vol, t)\n",
    "theta_put=theta_put(s, k, r, vol, t)\n",
    "gamma=gamma(s, k, r, vol, t)\n",
    "vega=vega(s, k, r, vol, t)\n",
    "rho_call=rho_call(s, k, r, vol, t)\n",
    "rho_put=rho_put(s, k, r, vol, t)\n",
    "data = {'Greek':['delta_call','delta_put','theta_call','theta_put','gamma','vega','rho_call','rho_put'],'Valeur':[delta_call,delta_put,theta_call,theta_put,gamma,vega,rho_call,rho_put]}\n",
    "df = pd.DataFrame(data)\n",
    "fig = plt.figure()\n",
    "ax = fig.add_axes([0,0,2,2])\n",
    "Greek = ['delta_call','delta_put','theta_call','theta_put','gamma','vega','rho_call','rho_put']\n",
    "Valeur = [delta_call,delta_put,theta_call,theta_put,gamma,vega,rho_call,rho_put]\n",
    "ax.bar(Greek,Valeur)\n",
    "print(df)\n",
    "plt.show()"
   ]
  },
  {
   "cell_type": "code",
   "execution_count": null,
   "id": "b0a90f43",
   "metadata": {},
   "outputs": [],
   "source": []
  }
 ],
 "metadata": {
  "kernelspec": {
   "display_name": "Python 3 (ipykernel)",
   "language": "python",
   "name": "python3"
  },
  "language_info": {
   "codemirror_mode": {
    "name": "ipython",
    "version": 3
   },
   "file_extension": ".py",
   "mimetype": "text/x-python",
   "name": "python",
   "nbconvert_exporter": "python",
   "pygments_lexer": "ipython3",
   "version": "3.9.7"
  }
 },
 "nbformat": 4,
 "nbformat_minor": 5
}
